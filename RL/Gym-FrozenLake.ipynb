{
 "cells": [
  {
   "cell_type": "code",
   "execution_count": 1,
   "id": "db642843",
   "metadata": {},
   "outputs": [],
   "source": [
    "import numpy as np\n",
    "import gymnasium as gym\n",
    "import random\n",
    "import time\n",
    "from IPython.display import clear_output"
   ]
  },
  {
   "cell_type": "markdown",
   "id": "17269488",
   "metadata": {},
   "source": [
    "#### Create the Environment"
   ]
  },
  {
   "cell_type": "code",
   "execution_count": 2,
   "id": "a2686246",
   "metadata": {},
   "outputs": [],
   "source": [
    "env = gym.make(\"FrozenLake-v1\", render_mode=\"ansi\")"
   ]
  },
  {
   "cell_type": "code",
   "execution_count": 3,
   "id": "189a2708",
   "metadata": {},
   "outputs": [
    {
     "data": {
      "text/plain": [
       "<TimeLimit<OrderEnforcing<PassiveEnvChecker<FrozenLakeEnv<FrozenLake-v1>>>>>"
      ]
     },
     "execution_count": 3,
     "metadata": {},
     "output_type": "execute_result"
    }
   ],
   "source": [
    "env"
   ]
  },
  {
   "cell_type": "markdown",
   "id": "5de6c993",
   "metadata": {},
   "source": [
    "#### Creating The Q-Table\n",
    "* initialize all the `Q-values` to zero for each `state-action` pair.\n",
    "* The `number of rows` in the table is equivalent to `the size of the state space` in the environment, and the `number of columns` is equivalent to `the size of the action space`. "
   ]
  },
  {
   "cell_type": "code",
   "execution_count": 4,
   "id": "6ebc84d6",
   "metadata": {},
   "outputs": [
    {
     "name": "stdout",
     "output_type": "stream",
     "text": [
      "4\n",
      "16\n"
     ]
    }
   ],
   "source": [
    "action_space_size = env.action_space.n ## Left, Right, Up, Down\n",
    "print(action_space_size)\n",
    "state_space_size = env.observation_space.n\n",
    "print(state_space_size)"
   ]
  },
  {
   "cell_type": "code",
   "execution_count": 5,
   "id": "9b9694cd",
   "metadata": {},
   "outputs": [],
   "source": [
    "q_table = np.zeros((state_space_size, action_space_size))"
   ]
  },
  {
   "cell_type": "code",
   "execution_count": 6,
   "id": "d3ec6d58",
   "metadata": {},
   "outputs": [
    {
     "name": "stdout",
     "output_type": "stream",
     "text": [
      "(16, 4)\n",
      "[[0. 0. 0. 0.]\n",
      " [0. 0. 0. 0.]\n",
      " [0. 0. 0. 0.]\n",
      " [0. 0. 0. 0.]\n",
      " [0. 0. 0. 0.]\n",
      " [0. 0. 0. 0.]\n",
      " [0. 0. 0. 0.]\n",
      " [0. 0. 0. 0.]\n",
      " [0. 0. 0. 0.]\n",
      " [0. 0. 0. 0.]\n",
      " [0. 0. 0. 0.]\n",
      " [0. 0. 0. 0.]\n",
      " [0. 0. 0. 0.]\n",
      " [0. 0. 0. 0.]\n",
      " [0. 0. 0. 0.]\n",
      " [0. 0. 0. 0.]]\n"
     ]
    }
   ],
   "source": [
    "print(q_table.shape)\n",
    "print(q_table)"
   ]
  },
  {
   "cell_type": "markdown",
   "id": "ad95eaf4",
   "metadata": {},
   "source": [
    "#### Initializing Q-Learning Parameters"
   ]
  },
  {
   "cell_type": "code",
   "execution_count": 7,
   "id": "b028ada5",
   "metadata": {},
   "outputs": [],
   "source": [
    "num_episodes = 10000\n",
    "max_steps_per_episode = 100\n",
    "\n",
    "learning_rate = 0.1 ## alpha\n",
    "discount_rate = 0.99 ## gamma\n",
    "\n",
    "## exploration-exploitation trade-off\n",
    "exploration_rate = 1\n",
    "max_exploration_rate = 1\n",
    "min_exploration_rate = 0.01\n",
    "exploration_decay_rate = 0.001"
   ]
  },
  {
   "cell_type": "markdown",
   "id": "0963c3fe",
   "metadata": {},
   "source": [
    "#### The Q-Learning Algorithm Training Loop"
   ]
  },
  {
   "cell_type": "code",
   "execution_count": 8,
   "id": "6f5ad38c",
   "metadata": {},
   "outputs": [],
   "source": [
    "rewards_all_episodes = [] ## list to hold all of the rewards we'll get from each episode."
   ]
  },
  {
   "cell_type": "code",
   "execution_count": 9,
   "id": "c8d6c3a5",
   "metadata": {},
   "outputs": [],
   "source": [
    "# Q-learning algorithm\n",
    "for episode in range(num_episodes):\n",
    "    # initialize new episode params\n",
    "    state = env.reset()[0] ## Reset env back to the starting state\n",
    "    done = False\n",
    "    rewards_current_episode = 0 ## since we start out with no rewards at the beginning of each episode.\n",
    "\n",
    "    for step in range(max_steps_per_episode): ## which runs for each time-step within an episode\n",
    "        # Exploration-exploitation trade-off\n",
    "        exploration_rate_threshold = random.uniform(0, 1)\n",
    "        if exploration_rate_threshold > exploration_rate:\n",
    "            action = np.argmax(q_table[state,:]) ## chose the action with the highest Q-value (exploit the env)\n",
    "        else:\n",
    "            action = env.action_space.sample() ## explore the environment, and sample an action randomly.\n",
    "        # Take new action\n",
    "        new_state, reward, done, truncated, info = env.step(action) ## Taking step on our env\n",
    "        # Update Q-table (update the Q-value for that state-action pair in the Q-table using Bellman Equation)\n",
    "        q_table[state, action] = (1 - learning_rate) * q_table[state, action] + \\\n",
    "                                learning_rate * (reward + discount_rate * np.max(q_table[new_state, :]))\n",
    "        # Set new state (transition to the new state)\n",
    "        state = new_state        \n",
    "        # Add new reward    \n",
    "        rewards_current_episode += reward \n",
    "        # Is last action ended in hole or goal\n",
    "        if done == True: \n",
    "            break\n",
    "    # Exploration rate decay   \n",
    "    exploration_rate = min_exploration_rate + \\\n",
    "                        (max_exploration_rate - min_exploration_rate) * np.exp(-exploration_decay_rate*episode)\n",
    "    # Add current episode reward to total rewards list\n",
    "    rewards_all_episodes.append(rewards_current_episode)    "
   ]
  },
  {
   "cell_type": "code",
   "execution_count": 10,
   "id": "5f30609a",
   "metadata": {},
   "outputs": [
    {
     "name": "stdout",
     "output_type": "stream",
     "text": [
      "********Average reward per thousand episodes********\n",
      "\n",
      "1000 :  0.06200000000000005\n",
      "2000 :  0.23100000000000018\n",
      "3000 :  0.4020000000000003\n",
      "4000 :  0.5460000000000004\n",
      "5000 :  0.6220000000000004\n",
      "6000 :  0.6390000000000005\n",
      "7000 :  0.7130000000000005\n",
      "8000 :  0.7060000000000005\n",
      "9000 :  0.6940000000000005\n",
      "10000 :  0.6950000000000005\n"
     ]
    }
   ],
   "source": [
    "# Calculate and print the average reward per thousand episodes\n",
    "rewards_per_thousand_episodes = np.split(np.array(rewards_all_episodes),num_episodes/1000)\n",
    "count = 1000\n",
    "\n",
    "print(\"********Average reward per thousand episodes********\\n\")\n",
    "for r in rewards_per_thousand_episodes:\n",
    "    print(count, \": \", str(sum(r/1000)))\n",
    "    count += 1000"
   ]
  },
  {
   "cell_type": "code",
   "execution_count": 11,
   "id": "233f0039",
   "metadata": {},
   "outputs": [
    {
     "name": "stdout",
     "output_type": "stream",
     "text": [
      "\n",
      "\n",
      "********Q-table********\n",
      "\n",
      "[[0.56407027 0.51153636 0.51547462 0.5175049 ]\n",
      " [0.44568464 0.40324534 0.27767469 0.50685368]\n",
      " [0.43996793 0.4209854  0.42584576 0.46913017]\n",
      " [0.25218849 0.30245422 0.27836781 0.45916785]\n",
      " [0.57579156 0.46349436 0.47433213 0.32956227]\n",
      " [0.         0.         0.         0.        ]\n",
      " [0.2018282  0.11529949 0.28694064 0.1647688 ]\n",
      " [0.         0.         0.         0.        ]\n",
      " [0.45672442 0.53078736 0.44081172 0.60086117]\n",
      " [0.42052261 0.62199515 0.54035528 0.32904685]\n",
      " [0.64938378 0.49157216 0.45047792 0.28574901]\n",
      " [0.         0.         0.         0.        ]\n",
      " [0.         0.         0.         0.        ]\n",
      " [0.4668474  0.45241369 0.71768898 0.5380266 ]\n",
      " [0.74582597 0.88179436 0.78405872 0.730314  ]\n",
      " [0.         0.         0.         0.        ]]\n"
     ]
    }
   ],
   "source": [
    "# Print updated Q-table\n",
    "print(\"\\n\\n********Q-table********\\n\")\n",
    "print(q_table)"
   ]
  },
  {
   "cell_type": "markdown",
   "id": "34470ccb",
   "metadata": {},
   "source": [
    "#### Checking the game in action for 3 episodes"
   ]
  },
  {
   "cell_type": "code",
   "execution_count": 12,
   "id": "a70cb13f",
   "metadata": {},
   "outputs": [
    {
     "name": "stdout",
     "output_type": "stream",
     "text": [
      "  (Down)\n",
      "SFFF\n",
      "FHFH\n",
      "FFFH\n",
      "HFF\u001b[41mG\u001b[0m\n",
      "\n",
      "****You reached the goal!****\n"
     ]
    }
   ],
   "source": [
    "for episode in range(3):\n",
    "    # initialize new episode params\n",
    "    state = env.reset()[0]\n",
    "    done = False\n",
    "    print(\"*****EPISODE \", episode+1, \"*****\\n\\n\\n\\n\")\n",
    "    time.sleep(1)\n",
    "    \n",
    "    for step in range(max_steps_per_episode):        \n",
    "        # Show current state of environment on screen\n",
    "        clear_output(wait=True)\n",
    "        print(env.render())\n",
    "        time.sleep(0.3)\n",
    "        \n",
    "        # Choose action with highest Q-value for current state  \n",
    "        action = np.argmax(q_table[state,:])        \n",
    "        new_state, reward, done, truncated, info = env.step(action)\n",
    "        \n",
    "        # Take new action\n",
    "\n",
    "        if done:\n",
    "            clear_output(wait=True)\n",
    "            print(env.render())\n",
    "            if reward == 1:\n",
    "                print(\"****You reached the goal!****\")\n",
    "                time.sleep(3)\n",
    "            else:\n",
    "                print(\"****You fell through a hole!****\")\n",
    "                time.sleep(3)\n",
    "                clear_output(wait=True)\n",
    "            break         \n",
    "\n",
    "        # Set new state\n",
    "        state = new_state\n",
    "        \n",
    "env.close()"
   ]
  },
  {
   "cell_type": "code",
   "execution_count": 28,
   "id": "b74860b6",
   "metadata": {},
   "outputs": [
    {
     "data": {
      "text/plain": [
       "14"
      ]
     },
     "execution_count": 28,
     "metadata": {},
     "output_type": "execute_result"
    }
   ],
   "source": [
    "state"
   ]
  },
  {
   "cell_type": "code",
   "execution_count": 29,
   "id": "33171616",
   "metadata": {},
   "outputs": [
    {
     "data": {
      "text/plain": [
       "array([0.71042121, 0.8770418 , 0.73338575, 0.7152258 ])"
      ]
     },
     "execution_count": 29,
     "metadata": {},
     "output_type": "execute_result"
    }
   ],
   "source": [
    "q_table[state,:]"
   ]
  },
  {
   "cell_type": "code",
   "execution_count": null,
   "id": "5a62b0e3",
   "metadata": {},
   "outputs": [],
   "source": []
  }
 ],
 "metadata": {
  "kernelspec": {
   "display_name": "llm",
   "language": "python",
   "name": "llm"
  },
  "language_info": {
   "codemirror_mode": {
    "name": "ipython",
    "version": 3
   },
   "file_extension": ".py",
   "mimetype": "text/x-python",
   "name": "python",
   "nbconvert_exporter": "python",
   "pygments_lexer": "ipython3",
   "version": "3.10.11"
  }
 },
 "nbformat": 4,
 "nbformat_minor": 5
}
